{
 "cells": [
  {
   "cell_type": "markdown",
   "metadata": {},
   "source": [
    "Non-graded challenge 2\n",
    "\n",
    "Name: Michelle Liang\n",
    "Batch: 009"
   ]
  },
  {
   "cell_type": "markdown",
   "metadata": {},
   "source": [
    "Task #1 - Number of Word\n",
    "\n",
    "Create a function that count the number of word in a sentence.\n",
    "\n",
    "Instruction:\n",
    "1.Create function called `number_of_word`.\n",
    "2.This function takes 1 input, `sentence`.\n",
    "3.Inside this function, you can utilize `.split()` method to split the sentence into list of word(s).\n",
    "4.Also, `len()` function to count the element inside a list.\n",
    "5.Return the number of word from the sentence.\n",
    "\n",
    "Example:\n",
    "-Input: number_of_word(sentence = ’Hello World!’)\n",
    "-Output: 2\n",
    "\n",
    "-Input: number_of_word(sentence = ’Once Upon a Time in a faraway land’)\n",
    "-Output: 84\n"
   ]
  },
  {
   "cell_type": "code",
   "execution_count": 43,
   "metadata": {},
   "outputs": [
    {
     "name": "stdout",
     "output_type": "stream",
     "text": [
      "2\n",
      "8\n"
     ]
    }
   ],
   "source": [
    "def number_of_word(sentence):\n",
    "    words = sentence.split()\n",
    "    word_count = len(words)\n",
    "    print(word_count)\n",
    "\n",
    "number_of_word(sentence = 'Hello World!')\n",
    "number_of_word(sentence = 'Once Upon a Time in a faraway land')\n",
    "    "
   ]
  },
  {
   "cell_type": "markdown",
   "metadata": {},
   "source": [
    "Task #2 - Find Multiple\n",
    "Create a function that will get list of number(s) from a certain range that multiples of given number.Instruction:\n",
    "1.Create function called `find_multiples`.\n",
    "2.This function takes 3 input: `start_range`, `end_range`, and `multiple`.\n",
    "3.From every number within the given range, check if that number is the mutliples of `multiple`.\n",
    "4.Return list of the possible multiple number(s).\n",
    "Example:\n",
    "-Input: find_multiple(start_range= 1, end_range= 20, multiple= 5)\n",
    "-Output: [5, 10, 15, 20]\n",
    "-Input: find_multiple(start_range= 1, end_range= 50, multiple= 10)\n",
    "-Output: [10, 20, 30, 40, 50]\n"
   ]
  },
  {
   "cell_type": "code",
   "execution_count": 30,
   "metadata": {},
   "outputs": [
    {
     "name": "stdout",
     "output_type": "stream",
     "text": [
      "[5, 10, 15, 20]\n",
      "[10, 20, 30, 40, 50]\n"
     ]
    }
   ],
   "source": [
    "def find_multiple(start_range, end_range, multiple):\n",
    "    list = range(start_range, end_range + 1)\n",
    "    multiples_list = []\n",
    "    for number in list:\n",
    "        if number % multiple == 0:\n",
    "            multiples_list.append(number)\n",
    "    print(multiples_list)\n",
    "\n",
    "\n",
    "find_multiple(start_range= 1, end_range= 20, multiple= 5)\n",
    "find_multiple(start_range= 1, end_range= 50, multiple= 10)\n",
    "\n",
    "    "
   ]
  },
  {
   "cell_type": "markdown",
   "metadata": {},
   "source": [
    "Task #3 - Grade ConverterCreate a function that will convert student’s grade to GPA.\n",
    "Instruction:\n",
    "1.Create function called `Grade_Converter`.\n",
    "2.This function takes input: `convert_to` and n-paired of student(s) name with its respective score.\n",
    "3.Input argument for `convert_to` is either `letter_grade` or `gpa`.\n",
    "4.You can utilize **kwargs input argument to generate n-length paired of student(s) name with its respective score (Dictionary).\n",
    "5.This function will return dictionary of student’s name along with converted Letter Grade or GPA, depending on user input in `convert_to` parameter.\n",
    "\n"
   ]
  },
  {
   "cell_type": "code",
   "execution_count": 28,
   "metadata": {},
   "outputs": [
    {
     "name": "stdout",
     "output_type": "stream",
     "text": [
      "{'Alice': 'B', 'Bob': 'B', 'Charlie': 'C'}\n",
      "{'Alice': 3.7, 'Bob': 3.7, 'Charlie': 3.0}\n"
     ]
    }
   ],
   "source": [
    "def Grade_Converter(convert_to, **kwargs):\n",
    "    \n",
    "    grade_scale = {\n",
    "        (85, 100): ('A', 4.0),\n",
    "        (70, 84.99): ('B', 3.7),\n",
    "        (60, 69.99): ('C', 3.0),\n",
    "        (50, 59.99): ('D', 2.5),\n",
    "        (40, 49.99): ('E', 1.5),\n",
    "        (0, 39.99): ('F', 1.0)\n",
    "    }\n",
    "    \n",
    "    results = {}\n",
    "\n",
    "    for student, score in kwargs.items():\n",
    "        converted_value = None\n",
    "\n",
    "        for score_range, (letter_grade, gpa) in grade_scale.items():\n",
    "            if score_range[0] <= score <= score_range[1]:\n",
    "                if convert_to == 'letter_grade':\n",
    "                    converted_value = letter_grade\n",
    "                elif convert_to == 'gpa':\n",
    "                    converted_value = gpa\n",
    "                break\n",
    "\n",
    "        results[student] = converted_value\n",
    "\n",
    "    return results\n",
    "\n",
    "grades_to_letter = Grade_Converter(convert_to='letter_grade', Alice=82, Bob=75, Charlie=60)\n",
    "print(grades_to_letter)\n",
    "\n",
    "gpa_scores = Grade_Converter(convert_to='gpa', Alice=82, Bob=75, Charlie=60)\n",
    "print(gpa_scores)\n"
   ]
  },
  {
   "cell_type": "markdown",
   "metadata": {},
   "source": [
    "Task 4\n",
    "\n",
    "Fibonacci sequence is a sequence in which each number is the sum of the two preceding ones. \n",
    "Suppose we have fibonacci sequence started with:0, 1, 1, 2, 3, 5, ...\n",
    "The next number should be 8 or sum of the two precedings, 3 and 5:0, 1, 1, 2, 3, 5, 8, ...\n",
    "Then the next number should be 13 or sum of the two precedings, 5 and 8:0, 1, 1, 2, 3, 5, 8, 13,  ...\n",
    "And so on.\n"
   ]
  },
  {
   "cell_type": "code",
   "execution_count": 26,
   "metadata": {},
   "outputs": [
    {
     "data": {
      "text/plain": [
       "55"
      ]
     },
     "execution_count": 26,
     "metadata": {},
     "output_type": "execute_result"
    }
   ],
   "source": [
    "def fibonacci(n):\n",
    "    if n == 0:\n",
    "        return 0\n",
    "    elif n == 1:\n",
    "        return 1\n",
    "    else:\n",
    "        return fibonacci(n - 1) + fibonacci(n - 2)\n",
    "    \n",
    "fibonacci(10)"
   ]
  }
 ],
 "metadata": {
  "kernelspec": {
   "display_name": "projectcuan",
   "language": "python",
   "name": "python3"
  },
  "language_info": {
   "codemirror_mode": {
    "name": "ipython",
    "version": 3
   },
   "file_extension": ".py",
   "mimetype": "text/x-python",
   "name": "python",
   "nbconvert_exporter": "python",
   "pygments_lexer": "ipython3",
   "version": "3.11.5"
  },
  "orig_nbformat": 4
 },
 "nbformat": 4,
 "nbformat_minor": 2
}
